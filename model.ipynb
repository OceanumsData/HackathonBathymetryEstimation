{
 "cells": [
  {
   "cell_type": "code",
   "execution_count": 1,
   "metadata": {},
   "outputs": [],
   "source": [
    "import torch\n",
    "import torch.nn as nn\n",
    "from torch.utils.data import Dataset, DataLoader\n",
    "import pandas as pd\n",
    "import numpy as np\n",
    "import matplotlib.pyplot as plt"
   ]
  },
  {
   "cell_type": "code",
   "execution_count": 2,
   "metadata": {},
   "outputs": [],
   "source": [
    "DATA_DIR = 'data/'"
   ]
  },
  {
   "cell_type": "code",
   "execution_count": 3,
   "metadata": {},
   "outputs": [],
   "source": [
    "class HackathonDataset(Dataset):\n",
    "    \"\"\"Hackathon Dataset\"\"\"   \n",
    "    \n",
    "    def __init__(self, csv_file, root_dir, transform=None):\n",
    "        \"\"\"\n",
    "        Args:\n",
    "            csv_file (string): Path to the csv file with paths and labels.\n",
    "            root_dir (string): Directory with all the images.\n",
    "            transform (callable, optional): Optional transform to be applied\n",
    "                on a sample.\n",
    "        \"\"\"\n",
    "        self.file = pd.read_csv(csv_file)\n",
    "        self.root_dir = root_dir\n",
    "        self.transform = transform    \n",
    "        \n",
    "    def __len__(self):\n",
    "        return len(self.file)\n",
    "    \n",
    "    def __getitem__(self, idx):\n",
    "        if torch.is_tensor(idx):\n",
    "            idx = idx.tolist()        \n",
    "        img_file = self.file.iloc[idx][\"image_file_name\"]        \n",
    "        if \"22NCL\" in img_file:\n",
    "            img_dir= \"guyane/guyane/\"\n",
    "        elif \"28PCC\" in img_file:\n",
    "            img_dir = \"saint_louis/saint_louis/\"  \n",
    "        elif \"29SMD\" in img_file:\n",
    "            img_dir = \"dataset_29SMD/dataset_29SMD/\"  \n",
    "        elif \"29TNE\" in img_file:\n",
    "            img_dir = \"dataset_29TNE/dataset_29TNE/\"\n",
    "        else:\n",
    "            raise Exception('There is something wrong with image name')    \n",
    "        image = np.load(self.root_dir + img_dir + img_file + \".npy\")\n",
    "        image = np.moveaxis(image, -1, 0)  # Permute dimensions in order to have Cin, H, W instead of H, W, Cin\n",
    "        image = image.astype(np.float32)  # We work with float (float32), not double (float64)\n",
    "        target = self.file.iloc[idx][\"z\"]\n",
    "        target = target.astype(np.float32)  # We work with float (float32), not double (float64)\n",
    "        sample = {'image': image, 'z': target}        \n",
    "        if self.transform:\n",
    "            sample = self.transform(sample)        \n",
    "        return sample"
   ]
  },
  {
   "cell_type": "code",
   "execution_count": 4,
   "metadata": {},
   "outputs": [],
   "source": [
    "class Net(nn.Module):\n",
    "    \"\"\"Used Network\"\"\"\n",
    "\n",
    "    def __init__(self):\n",
    "        super(Net, self).__init__()\n",
    "        # 1 input image channel, 6 output channels, 3x3 square convolution\n",
    "        # kernel\n",
    "        self.conv1 = nn.Conv2d(4, 8, 3, padding=1)\n",
    "        self.relu1 = nn.ReLU()\n",
    "        self.pool1 = nn.MaxPool2d(2)\n",
    "        self.conv2 = nn.Conv2d(8, 16, 3, padding=1)\n",
    "        self.relu2 = nn.ReLU()\n",
    "        self.pool2 = nn.MaxPool2d(2)\n",
    "        self.fc1 = nn.Linear(1600, 160)  # 6*6 from image dimension\n",
    "        self.relu3 = nn.ReLU()\n",
    "        self.fc2 = nn.Linear(160, 1)\n",
    "        self.relu4 = nn.ReLU()\n",
    "        \n",
    "    def forward(self, x):\n",
    "        \"\"\"Given a tensor X of shape (Batch_size, C_in, H, W), compute the output tensor, of shape (Batch_size, )\"\"\"\n",
    "        x = self.conv1(x)\n",
    "        x = self.relu1(x)\n",
    "        x = self.pool1(x)\n",
    "        x = self.conv2(x)\n",
    "        x = self.relu2(x)\n",
    "        x = self.pool2(x)\n",
    "        x = x.flatten(start_dim=1)  # Flatten the 3 last dimensions, keep the 1 dimension (batch_size)\n",
    "        x = self.fc1(x)\n",
    "        x = self.relu3(x)\n",
    "        x = self.fc2(x)\n",
    "        x = self.relu4(x)\n",
    "        x = x.flatten()  # The output dimension should be (Batch_size, ) and not (Batch_size, 1) \n",
    "        return x"
   ]
  },
  {
   "cell_type": "code",
   "execution_count": 5,
   "metadata": {},
   "outputs": [],
   "source": [
    "n_epochs = 5\n",
    "batch_size = 32"
   ]
  },
  {
   "cell_type": "code",
   "execution_count": 7,
   "metadata": {},
   "outputs": [],
   "source": [
    "dataset = HackathonDataset(DATA_DIR + 'mixed_train.csv', DATA_DIR)\n",
    "dataloader = DataLoader(dataset, batch_size=batch_size, shuffle=True)\n",
    "model = Net()\n",
    "optimizer = torch.optim.Adam(model.parameters(), lr=0.01)\n",
    "criterion = nn.MSELoss()"
   ]
  },
  {
   "cell_type": "code",
   "execution_count": 16,
   "metadata": {},
   "outputs": [
    {
     "name": "stdout",
     "output_type": "stream",
     "text": [
      "Epoch 1/5\n",
      "Number of sample viewed : 0\n",
      "Number of sample viewed : 3200\n",
      "Number of sample viewed : 6400\n",
      "Number of sample viewed : 9600\n",
      "Number of sample viewed : 12800\n",
      "Number of sample viewed : 16000\n",
      "Number of sample viewed : 19200\n",
      "Number of sample viewed : 22400\n",
      "Number of sample viewed : 25600\n",
      "Number of sample viewed : 28800\n",
      "Number of sample viewed : 32000\n",
      "Number of sample viewed : 35200\n",
      "Number of sample viewed : 38400\n",
      "Number of sample viewed : 41600\n",
      "Number of sample viewed : 44800\n",
      "Number of sample viewed : 48000\n",
      "Number of sample viewed : 51200\n",
      "Number of sample viewed : 54400\n",
      "Epoch 2/5\n",
      "Number of sample viewed : 0\n",
      "Number of sample viewed : 3200\n",
      "Number of sample viewed : 6400\n",
      "Number of sample viewed : 9600\n",
      "Number of sample viewed : 12800\n",
      "Number of sample viewed : 16000\n",
      "Number of sample viewed : 19200\n",
      "Number of sample viewed : 22400\n",
      "Number of sample viewed : 25600\n",
      "Number of sample viewed : 28800\n",
      "Number of sample viewed : 32000\n",
      "Number of sample viewed : 35200\n",
      "Number of sample viewed : 38400\n",
      "Number of sample viewed : 41600\n",
      "Number of sample viewed : 44800\n",
      "Number of sample viewed : 48000\n",
      "Number of sample viewed : 51200\n",
      "Number of sample viewed : 54400\n",
      "Epoch 3/5\n",
      "Number of sample viewed : 0\n",
      "Number of sample viewed : 3200\n",
      "Number of sample viewed : 6400\n",
      "Number of sample viewed : 9600\n",
      "Number of sample viewed : 12800\n",
      "Number of sample viewed : 16000\n",
      "Number of sample viewed : 19200\n",
      "Number of sample viewed : 22400\n",
      "Number of sample viewed : 25600\n",
      "Number of sample viewed : 28800\n",
      "Number of sample viewed : 32000\n",
      "Number of sample viewed : 35200\n",
      "Number of sample viewed : 38400\n",
      "Number of sample viewed : 41600\n",
      "Number of sample viewed : 44800\n",
      "Number of sample viewed : 48000\n",
      "Number of sample viewed : 51200\n",
      "Number of sample viewed : 54400\n",
      "Epoch 4/5\n",
      "Number of sample viewed : 0\n",
      "Number of sample viewed : 3200\n",
      "Number of sample viewed : 6400\n",
      "Number of sample viewed : 9600\n",
      "Number of sample viewed : 12800\n",
      "Number of sample viewed : 16000\n",
      "Number of sample viewed : 19200\n",
      "Number of sample viewed : 22400\n",
      "Number of sample viewed : 25600\n",
      "Number of sample viewed : 28800\n",
      "Number of sample viewed : 32000\n",
      "Number of sample viewed : 35200\n",
      "Number of sample viewed : 38400\n",
      "Number of sample viewed : 41600\n",
      "Number of sample viewed : 44800\n",
      "Number of sample viewed : 48000\n",
      "Number of sample viewed : 51200\n",
      "Number of sample viewed : 54400\n",
      "Epoch 5/5\n",
      "Number of sample viewed : 0\n",
      "Number of sample viewed : 3200\n",
      "Number of sample viewed : 6400\n",
      "Number of sample viewed : 9600\n",
      "Number of sample viewed : 12800\n",
      "Number of sample viewed : 16000\n",
      "Number of sample viewed : 19200\n",
      "Number of sample viewed : 22400\n",
      "Number of sample viewed : 25600\n",
      "Number of sample viewed : 28800\n",
      "Number of sample viewed : 32000\n",
      "Number of sample viewed : 35200\n",
      "Number of sample viewed : 38400\n",
      "Number of sample viewed : 41600\n",
      "Number of sample viewed : 44800\n",
      "Number of sample viewed : 48000\n",
      "Number of sample viewed : 51200\n",
      "Number of sample viewed : 54400\n"
     ]
    }
   ],
   "source": [
    "batch_losses = []\n",
    "\n",
    "for epoch in range(n_epochs):\n",
    "    \n",
    "    # Print Epoch\n",
    "    print(f\"Epoch {epoch + 1}/{n_epochs}\")\n",
    "    \n",
    "    # Training loop\n",
    "    for it, batch in enumerate(dataloader):\n",
    "                \n",
    "        # Reset gradients\n",
    "        optimizer.zero_grad()\n",
    "        \n",
    "        # Forward propagation through the network\n",
    "        out = model(batch[\"image\"])\n",
    "        \n",
    "        # Calculate the loss\n",
    "        loss = torch.sqrt(criterion(out, batch[\"z\"]))  # We take square root because RMSE is the competition's metric\n",
    "        \n",
    "        # Track batch loss\n",
    "        batch_losses.append(loss.item())\n",
    "        \n",
    "        # Backpropagation\n",
    "        loss.backward()\n",
    "        \n",
    "        # Update the parameters\n",
    "        optimizer.step()\n",
    "    \n",
    "        #=====Printing part======\n",
    "        if it%100 == 0:\n",
    "            print(f\"Number of sample viewed : {it*batch_size}\")"
   ]
  },
  {
   "cell_type": "code",
   "execution_count": 17,
   "metadata": {},
   "outputs": [
    {
     "data": {
      "text/plain": [
       "[<matplotlib.lines.Line2D at 0x7f834d942340>]"
      ]
     },
     "execution_count": 17,
     "metadata": {},
     "output_type": "execute_result"
    },
    {
     "data": {
      "image/png": "[encoded data removed]",
      "text/plain": [
       "<Figure size 432x288 with 1 Axes>"
      ]
     },
     "metadata": {
      "needs_background": "light"
     },
     "output_type": "display_data"
    }
   ],
   "source": [
    "plt.plot(batch_losses)"
   ]
  },
  {
   "cell_type": "code",
   "execution_count": null,
   "metadata": {},
   "outputs": [],
   "source": []
  }
 ],
 "metadata": {
  "kernelspec": {
   "display_name": "ml",
   "language": "python",
   "name": "ml"
  },
  "language_info": {
   "codemirror_mode": {
    "name": "ipython",
    "version": 3
   },
   "file_extension": ".py",
   "mimetype": "text/x-python",
   "name": "python",
   "nbconvert_exporter": "python",
   "pygments_lexer": "ipython3",
   "version": "3.8.5"
  }
 },
 "nbformat": 4,
 "nbformat_minor": 4
}

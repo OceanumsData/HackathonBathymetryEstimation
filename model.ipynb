{
 "cells": [
  {
   "cell_type": "code",
   "execution_count": 129,
   "metadata": {},
   "outputs": [],
   "source": [
    "import torch\n",
    "import torch.nn as nn\n",
    "from torch.utils.data import Dataset, DataLoader\n",
    "import pandas as pd\n",
    "import numpy as np\n",
    "import matplotlib.pyplot as plt\n",
    "from datetime import datetime\n",
    "from torchsummary import summary\n",
    "import os"
   ]
  },
  {
   "cell_type": "code",
   "execution_count": 130,
   "metadata": {},
   "outputs": [
    {
     "data": {
      "text/plain": [
       "device(type='cuda')"
      ]
     },
     "execution_count": 130,
     "metadata": {},
     "output_type": "execute_result"
    }
   ],
   "source": [
    "DATA_DIR = 'data/'\n",
    "DEVICE = torch.device('cuda' if torch.cuda.is_available() else 'cpu')\n",
    "DEVICE"
   ]
  },
  {
   "cell_type": "code",
   "execution_count": 131,
   "metadata": {},
   "outputs": [],
   "source": [
    "def random_transformation(im):\n",
    "    \"\"\"Randomly rotate or flip the image\"\"\"\n",
    "    i = np.random.randint(8)\n",
    "    if i == 0 :\n",
    "        return im\n",
    "    if i == 1 :\n",
    "        return np.rot90(im, axes=(0,1), k=1)\n",
    "    if i == 2 :\n",
    "        return np.rot90(im, axes=(0,1), k=2)\n",
    "    if i == 3 :\n",
    "        return np.rot90(im, axes=(0,1), k=3)\n",
    "    if i == 4:\n",
    "        return np.flip(im, axis=1)\n",
    "    if i == 5:\n",
    "        return np.flip(np.rot90(im, axes=(0,1), k=1))\n",
    "    if i == 6:\n",
    "        return np.flip(np.rot90(im, axes=(0,1), k=2))\n",
    "    if i == 7:\n",
    "        return np.flip(np.rot90(im, axes=(0,1), k=3))"
   ]
  },
  {
   "cell_type": "code",
   "execution_count": 132,
   "metadata": {},
   "outputs": [],
   "source": [
    "class HackathonDataset(Dataset):\n",
    "    \"\"\"Hackathon Dataset\"\"\"   \n",
    "    \n",
    "    def __init__(self, csv_file, root_dir, transform=None):\n",
    "        \"\"\"\n",
    "        Args:\n",
    "            csv_file (string): Path to the csv file with paths and labels.\n",
    "            root_dir (string): Directory with all the images.\n",
    "            transform (callable, optional): Optional transform to be applied\n",
    "                on a sample.\n",
    "        \"\"\"\n",
    "        self.file = pd.read_csv(csv_file)\n",
    "        self.root_dir = root_dir\n",
    "        self.transform = transform    \n",
    "        \n",
    "    def __len__(self):\n",
    "        return len(self.file)\n",
    "    \n",
    "    def __getitem__(self, idx):\n",
    "        if torch.is_tensor(idx):\n",
    "            idx = idx.tolist()        \n",
    "        img_file = self.file.iloc[idx][\"image_file_name\"]        \n",
    "        if \"22NCL\" in img_file:\n",
    "            img_dir= \"guyane/guyane/\"\n",
    "        elif \"28PCC\" in img_file:\n",
    "            img_dir = \"saint_louis/saint_louis/\"  \n",
    "        elif \"29SMD\" in img_file:\n",
    "            img_dir = \"dataset_29SMD/dataset_29SMD/\"  \n",
    "        elif \"29TNE\" in img_file:\n",
    "            img_dir = \"dataset_29TNE/dataset_29TNE/\"\n",
    "        else:\n",
    "            raise Exception('There is something wrong with image name')    \n",
    "        image = np.load(self.root_dir + img_dir + img_file + \".npy\")\n",
    "        image = random_transformation(image)  # Add a random permutation of the image\n",
    "        image = np.moveaxis(image, -1, 0)  # Permute dimensions in order to have Cin, H, W instead of H, W, Cin\n",
    "        image = image.astype(np.float32)  # We work with float (float32), not double (float64)\n",
    "        target = self.file.iloc[idx][\"z\"]\n",
    "        target = target.astype(np.float32)  # We work with float (float32), not double (float64)\n",
    "        sample = {'image': image, 'z': target, \"image_file_name\": img_file}\n",
    "        if self.transform:\n",
    "            sample = self.transform(sample)        \n",
    "        return sample"
   ]
  },
  {
   "cell_type": "code",
   "execution_count": 135,
   "metadata": {},
   "outputs": [],
   "source": [
    "class Net(nn.Module):\n",
    "    \"\"\"Used Network\"\"\"\n",
    "\n",
    "    def __init__(self):\n",
    "        super(Net, self).__init__()\n",
    "        self.conv1 = nn.Conv2d(4, 16, 3, padding=1)\n",
    "        self.relu1 = nn.ReLU()\n",
    "        self.pool1 = nn.MaxPool2d(2)\n",
    "        self.conv2 = nn.Conv2d(16, 64, 3, padding=1)\n",
    "        self.relu2 = nn.ReLU()\n",
    "        self.pool2 = nn.MaxPool2d(2)\n",
    "        self.fc1 = nn.Linear(6400, 1024)  \n",
    "        self.relu3 = nn.ReLU()\n",
    "        self.fc2 = nn.Linear(1024, 1)\n",
    "        self.relu4 = nn.ReLU()\n",
    "        \n",
    "    def forward(self, x):\n",
    "        \"\"\"Given a tensor X of shape (Batch_size, C_in, H, W), compute the output tensor, of shape (Batch_size, )\"\"\"\n",
    "        x = self.conv1(x)\n",
    "        x = self.relu1(x)\n",
    "        x = self.pool1(x)\n",
    "        x = self.conv2(x)\n",
    "        x = self.relu2(x)\n",
    "        x = self.pool2(x)\n",
    "        x = x.flatten(start_dim=1)  # Flatten the 3 last dimensions, keep the 1 dimension (batch_size)\n",
    "        x = self.fc1(x)\n",
    "        x = self.relu3(x)\n",
    "        x = self.fc2(x)\n",
    "        x = self.relu4(x)\n",
    "        x = x.flatten()  # The output dimension should be (Batch_size, ) and not (Batch_size, 1) \n",
    "        return x"
   ]
  },
  {
   "cell_type": "code",
   "execution_count": 143,
   "metadata": {},
   "outputs": [],
   "source": [
    "n_epochs = 8\n",
    "batch_size = 8"
   ]
  },
  {
   "cell_type": "code",
   "execution_count": 144,
   "metadata": {},
   "outputs": [],
   "source": [
    "dataset = HackathonDataset(DATA_DIR + 'mixed_train.csv', DATA_DIR)\n",
    "dataloader = DataLoader(dataset, batch_size=batch_size, shuffle=True, num_workers=os.cpu_count() - 2)\n",
    "val_dataset = HackathonDataset(DATA_DIR + 'mixed_validation.csv', DATA_DIR)\n",
    "val_dataloader = DataLoader(val_dataset, batch_size=batch_size, shuffle=True, num_workers=os.cpu_count() - 2)\n",
    "model = Net()\n",
    "model.to(DEVICE)\n",
    "optimizer = torch.optim.Adam(model.parameters(), lr=0.01)\n",
    "criterion = nn.MSELoss()"
   ]
  },
  {
   "cell_type": "code",
   "execution_count": 145,
   "metadata": {},
   "outputs": [
    {
     "name": "stdout",
     "output_type": "stream",
     "text": [
      "----------------------------------------------------------------\n",
      "        Layer (type)               Output Shape         Param #\n",
      "================================================================\n",
      "            Conv2d-1           [-1, 16, 40, 40]             592\n",
      "              ReLU-2           [-1, 16, 40, 40]               0\n",
      "         MaxPool2d-3           [-1, 16, 20, 20]               0\n",
      "            Conv2d-4           [-1, 64, 20, 20]           9,280\n",
      "              ReLU-5           [-1, 64, 20, 20]               0\n",
      "         MaxPool2d-6           [-1, 64, 10, 10]               0\n",
      "            Linear-7                 [-1, 1024]       6,554,624\n",
      "              ReLU-8                 [-1, 1024]               0\n",
      "            Linear-9                    [-1, 1]           1,025\n",
      "             ReLU-10                    [-1, 1]               0\n",
      "================================================================\n",
      "Total params: 6,565,521\n",
      "Trainable params: 6,565,521\n",
      "Non-trainable params: 0\n",
      "----------------------------------------------------------------\n",
      "Input size (MB): 0.02\n",
      "Forward/backward pass size (MB): 0.89\n",
      "Params size (MB): 25.05\n",
      "Estimated Total Size (MB): 25.96\n",
      "----------------------------------------------------------------\n"
     ]
    }
   ],
   "source": [
    "summary(model, (4, 40, 40))"
   ]
  },
  {
   "cell_type": "code",
   "execution_count": 146,
   "metadata": {},
   "outputs": [
    {
     "name": "stdout",
     "output_type": "stream",
     "text": [
      "Epoch 1/8\n",
      "Number of sample viewed : 0\n",
      "Number of sample viewed : 11392\n",
      "Number of sample viewed : 22784\n",
      "Number of sample viewed : 34176\n",
      "Number of sample viewed : 45568\n",
      "Number of sample viewed : 56960\n",
      "Epoch 2/8\n",
      "Number of sample viewed : 0\n",
      "Number of sample viewed : 11392\n",
      "Number of sample viewed : 22784\n",
      "Number of sample viewed : 34176\n",
      "Number of sample viewed : 45568\n",
      "Number of sample viewed : 56960\n",
      "Epoch 3/8\n",
      "Number of sample viewed : 0\n",
      "Number of sample viewed : 11392\n",
      "Number of sample viewed : 22784\n",
      "Number of sample viewed : 34176\n",
      "Number of sample viewed : 45568\n",
      "Number of sample viewed : 56960\n",
      "Epoch 4/8\n",
      "Number of sample viewed : 0\n",
      "Number of sample viewed : 11392\n",
      "Number of sample viewed : 22784\n",
      "Number of sample viewed : 34176\n",
      "Number of sample viewed : 45568\n",
      "Number of sample viewed : 56960\n",
      "Epoch 5/8\n",
      "Number of sample viewed : 0\n",
      "Number of sample viewed : 11392\n",
      "Number of sample viewed : 22784\n",
      "Number of sample viewed : 34176\n",
      "Number of sample viewed : 45568\n",
      "Number of sample viewed : 56960\n",
      "Epoch 6/8\n",
      "Number of sample viewed : 0\n",
      "Number of sample viewed : 11392\n",
      "Number of sample viewed : 22784\n",
      "Number of sample viewed : 34176\n",
      "Number of sample viewed : 45568\n",
      "Number of sample viewed : 56960\n",
      "Epoch 7/8\n",
      "Number of sample viewed : 0\n",
      "Number of sample viewed : 11392\n",
      "Number of sample viewed : 22784\n",
      "Number of sample viewed : 34176\n",
      "Number of sample viewed : 45568\n",
      "Number of sample viewed : 56960\n",
      "Epoch 8/8\n",
      "Number of sample viewed : 0\n",
      "Number of sample viewed : 11392\n",
      "Number of sample viewed : 22784\n",
      "Number of sample viewed : 34176\n",
      "Number of sample viewed : 45568\n",
      "Number of sample viewed : 56960\n"
     ]
    }
   ],
   "source": [
    "train_losses = []\n",
    "val_losses = []\n",
    "\n",
    "for epoch in range(n_epochs):\n",
    "    \n",
    "    # Print Epoch\n",
    "    print(f\"Epoch {epoch + 1}/{n_epochs}\")\n",
    "    \n",
    "    # Training loop\n",
    "    for it, batch in enumerate(dataloader):\n",
    "                \n",
    "        # Reset gradients\n",
    "        optimizer.zero_grad()\n",
    "        \n",
    "        # Forward propagation through the network\n",
    "        out = model(batch[\"image\"].to(DEVICE))\n",
    "        \n",
    "        # Calculate the loss\n",
    "        loss = torch.sqrt(criterion(out, batch[\"z\"].to(DEVICE)))  # We take square root because RMSE is the competition's metric\n",
    "        \n",
    "        # Track batch loss\n",
    "        train_losses.append(loss.item())\n",
    "        \n",
    "        # Backpropagation\n",
    "        loss.backward()\n",
    "        \n",
    "        # Update the parameters\n",
    "        optimizer.step()\n",
    "    \n",
    "        #=====Printing part======\n",
    "        if it%(len(dataloader) // 5) == 0:\n",
    "            print(f\"Number of sample viewed : {it*batch_size}\")\n",
    "    \n",
    "    # Validation loop\n",
    "    for it, batch in enumerate(val_dataloader):\n",
    "                \n",
    "        # Forward propagation through the network\n",
    "        out = model(batch[\"image\"].to(DEVICE))\n",
    "        \n",
    "        # Calculate the loss\n",
    "        loss = torch.sqrt(criterion(out, batch[\"z\"].to(DEVICE)))  # We take square root because RMSE is the competition's metric\n",
    "        \n",
    "        # Track batch loss\n",
    "        val_losses.append(loss.item())"
   ]
  },
  {
   "cell_type": "code",
   "execution_count": 147,
   "metadata": {},
   "outputs": [
    {
     "data": {
      "image/png": "[encoded data removed]",
      "text/plain": [
       "<Figure size 432x288 with 1 Axes>"
      ]
     },
     "metadata": {
      "needs_background": "light"
     },
     "output_type": "display_data"
    },
    {
     "data": {
      "image/png": "[encoded data removed]",
      "text/plain": [
       "<Figure size 432x288 with 1 Axes>"
      ]
     },
     "metadata": {
      "needs_background": "light"
     },
     "output_type": "display_data"
    }
   ],
   "source": [
    "plt.plot(train_losses)\n",
    "plt.show()\n",
    "plt.plot(val_losses)\n",
    "plt.show()"
   ]
  },
  {
   "cell_type": "markdown",
   "metadata": {},
   "source": [
    "# Evaluation on Test Data"
   ]
  },
  {
   "cell_type": "code",
   "execution_count": 148,
   "metadata": {},
   "outputs": [],
   "source": [
    "test_dataset = HackathonDataset(DATA_DIR + 'mixed_test.csv', DATA_DIR)\n",
    "test_dataloader = DataLoader(test_dataset, batch_size=batch_size, shuffle=False, num_workers=os.cpu_count() - 2)\n",
    "kaggle_df = pd.DataFrame(columns=['image_file_name', \"z\"])"
   ]
  },
  {
   "cell_type": "code",
   "execution_count": 149,
   "metadata": {},
   "outputs": [],
   "source": [
    "data = []\n",
    "\n",
    "for it, batch in enumerate(test_dataloader):\n",
    "    out = model(batch[\"image\"].to(DEVICE)).cpu().detach().numpy()\n",
    "    img_file_names = batch[\"image_file_name\"]\n",
    "    for i in range(len(img_file_names)):\n",
    "        data.append([img_file_names[i], out[i]])\n",
    "\n",
    "kaggle_df = pd.DataFrame(data, columns=['image_id', 'predicted_z'])"
   ]
  },
  {
   "cell_type": "code",
   "execution_count": 150,
   "metadata": {},
   "outputs": [],
   "source": [
    "kaggle_df.to_csv('predictions/prediction-' + datetime.now().strftime(\"%d-%m-%y:%H-%M\") + '.csv', index=False)"
   ]
  }
 ],
 "metadata": {
  "kernelspec": {
   "display_name": "ml",
   "language": "python",
   "name": "ml"
  },
  "language_info": {
   "codemirror_mode": {
    "name": "ipython",
    "version": 3
   },
   "file_extension": ".py",
   "mimetype": "text/x-python",
   "name": "python",
   "nbconvert_exporter": "python",
   "pygments_lexer": "ipython3",
   "version": "3.8.5"
  }
 },
 "nbformat": 4,
 "nbformat_minor": 4
}

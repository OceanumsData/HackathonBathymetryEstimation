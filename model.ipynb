{
 "cells": [
  {
   "cell_type": "code",
   "execution_count": 1,
   "metadata": {},
   "outputs": [],
   "source": [
    "import torch\n",
    "import torch.nn as nn\n",
    "from torch.utils.data import Dataset, DataLoader\n",
    "import pandas as pd\n",
    "import numpy as np\n",
    "import matplotlib.pyplot as plt\n",
    "from datetime import datetime\n",
    "from torchsummary import summary\n",
    "import os\n",
    "import time\n",
    "\n",
    "from dataset import HackathonDataset\n",
    "from convnet import ConvNet\n",
    "from resnet import ResNet\n",
    "\n",
    "from config import DATA_DIR, DEVICE, USE_RAW"
   ]
  },
  {
   "cell_type": "code",
   "execution_count": 2,
   "metadata": {},
   "outputs": [],
   "source": [
    "class Ensemble:\n",
    "    \n",
    "    def __init__(self, Model, device, n_estimators):\n",
    "        self.Model = Model\n",
    "        self.instances = [self.Model(device) for i in range(n_estimators)]\n",
    "    \n",
    "    def fit(self, train_dataloader, test_dataloader, n_epochs, print_frequency):\n",
    "        for it, instance in enumerate(self.instances):\n",
    "            print(f\"\\n=== Training instance {it+1}/{len(self.instances)} ===\\n\")\n",
    "            instance.fit(train_dataloader, test_dataloader, n_epochs, print_frequency)\n",
    "    \n",
    "    def predict(self, dataloader):\n",
    "        predictions = [instance.predict(dataloader) for instance in self.instances]\n",
    "        return np.mean(predictions, axis=0)"
   ]
  },
  {
   "cell_type": "code",
   "execution_count": 6,
   "metadata": {},
   "outputs": [],
   "source": [
    "n_epochs = 1\n",
    "n_estimators = 1\n",
    "print_frequency = 10\n",
    "batch_size = 4  # High batch size often happen to not converge... So we use small batches, even if slower\n",
    "pred_batch_size = 128  # There is no problem of convergence for training batch size"
   ]
  },
  {
   "cell_type": "code",
   "execution_count": 7,
   "metadata": {},
   "outputs": [],
   "source": [
    "#========================NOTE============================\n",
    "# We often have to reset the model, because it won't converge. I don't know why, but it is useful to know\n",
    "# If the training loss is stuck around 22 and the validation loss is stuck around 10,\n",
    "# reset the model by running this cell again, and relaunch training\n",
    "#========================END Of NOTE=====================\n",
    "\n",
    "dataset = HackathonDataset(DATA_DIR + 'mixed_train.csv', DATA_DIR, USE_RAW)\n",
    "dataloader = DataLoader(dataset, batch_size=batch_size, shuffle=True, num_workers=os.cpu_count() - 2)\n",
    "val_dataset = HackathonDataset(DATA_DIR + 'mixed_validation.csv', DATA_DIR, USE_RAW)\n",
    "val_dataloader = DataLoader(val_dataset, batch_size=pred_batch_size, shuffle=False, num_workers=os.cpu_count() - 2)\n",
    "model = Ensemble(ResNet, DEVICE, n_estimators)"
   ]
  },
  {
   "cell_type": "code",
   "execution_count": 8,
   "metadata": {},
   "outputs": [
    {
     "name": "stdout",
     "output_type": "stream",
     "text": [
      "\n",
      "=== Training instance 1/1 ===\n",
      "\n",
      "Epoch 1/1\n",
      "Number of batches viewed : 1423\n",
      "Current training loss : 17.487399111142565\n",
      "Current validation loss : 9.324251967152273\n",
      "Number of batches viewed : 2847\n",
      "Current training loss : 9.348210691903414\n",
      "Current validation loss : 10.461772043873944\n",
      "Number of batches viewed : 4271\n",
      "Current training loss : 8.8463914890805\n",
      "Current validation loss : 10.235857618136668\n",
      "Number of batches viewed : 5695\n",
      "Current training loss : 8.437118867809852\n",
      "Current validation loss : 11.018762321922722\n",
      "Number of batches viewed : 7119\n",
      "Current training loss : 8.300056809203678\n",
      "Current validation loss : 9.84908896168386\n",
      "Number of batches viewed : 8543\n",
      "Current training loss : 8.268764884954088\n",
      "Current validation loss : 10.549730225810855\n",
      "Number of batches viewed : 9967\n",
      "Current training loss : 8.171401215654411\n",
      "Current validation loss : 10.3355223513025\n",
      "Number of batches viewed : 11391\n",
      "Current training loss : 8.178669347187107\n",
      "Current validation loss : 10.631962212990588\n",
      "Number of batches viewed : 12815\n",
      "Current training loss : 8.19217124238108\n",
      "Current validation loss : 10.623181598392998\n",
      "Number of batches viewed : 14239\n",
      "Current training loss : 8.078370648948999\n",
      "Current validation loss : 10.174255472468579\n",
      "The epoch took  206.36 seconds\n"
     ]
    }
   ],
   "source": [
    "model.fit(dataloader, val_dataloader, n_epochs, print_frequency)"
   ]
  },
  {
   "cell_type": "markdown",
   "metadata": {},
   "source": [
    "# Evaluation on Test Data"
   ]
  },
  {
   "cell_type": "code",
   "execution_count": 9,
   "metadata": {},
   "outputs": [],
   "source": [
    "test_dataset = HackathonDataset(DATA_DIR + 'mixed_test.csv', DATA_DIR, USE_RAW)\n",
    "test_dataloader = DataLoader(test_dataset, batch_size=pred_batch_size, shuffle=False, num_workers=os.cpu_count() - 2)"
   ]
  },
  {
   "cell_type": "code",
   "execution_count": 10,
   "metadata": {},
   "outputs": [],
   "source": [
    "image_file_names = []\n",
    "for val in test_dataloader:\n",
    "    image_file_names += val['image_file_name']\n",
    "\n",
    "predictions = model.predict(test_dataloader)\n",
    "kaggle_df = pd.DataFrame({'image_id': image_file_names,\n",
    "                          'predicted_z': predictions})"
   ]
  },
  {
   "cell_type": "code",
   "execution_count": 11,
   "metadata": {},
   "outputs": [],
   "source": [
    "kaggle_df.to_csv('predictions/prediction-' + datetime.now().strftime(\"%d-%m-%y:%H-%M\") + '.csv', index=False)"
   ]
  }
 ],
 "metadata": {
  "kernelspec": {
   "display_name": "ml",
   "language": "python",
   "name": "ml"
  },
  "language_info": {
   "codemirror_mode": {
    "name": "ipython",
    "version": 3
   },
   "file_extension": ".py",
   "mimetype": "text/x-python",
   "name": "python",
   "nbconvert_exporter": "python",
   "pygments_lexer": "ipython3",
   "version": "3.8.5"
  }
 },
 "nbformat": 4,
 "nbformat_minor": 4
}

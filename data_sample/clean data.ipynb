{
 "cells": [
  {
   "cell_type": "code",
   "execution_count": 1,
   "metadata": {},
   "outputs": [],
   "source": [
    "import pandas as pd"
   ]
  },
  {
   "cell_type": "code",
   "execution_count": 10,
   "metadata": {},
   "outputs": [],
   "source": [
    "mixed_train_df = pd.read_csv('../data/mixed_train.csv')\n",
    "mixed_validation_df = pd.read_csv('../data/mixed_validation.csv')\n",
    "mixed_test_df = pd.read_csv('../data/mixed_test.csv')"
   ]
  },
  {
   "cell_type": "code",
   "execution_count": 25,
   "metadata": {},
   "outputs": [],
   "source": [
    "import os\n",
    "test = os.listdir('dataset_29SMD/dataset_29SMD/') + os.listdir('dataset_29TNE/dataset_29TNE/')\n",
    "train_and_val = os.listdir('guyane/guyane/') + os.listdir('saint_louis/saint_louis/')"
   ]
  },
  {
   "cell_type": "code",
   "execution_count": 23,
   "metadata": {},
   "outputs": [],
   "source": [
    "test_names = list(set([test_name[0:-4] for test_name in test if test_name[-5] != 'W']))\n",
    "test_names.sort()\n",
    "train_and_val_names = list(set([train_and_val_name[0:-4] for train_and_val_name in train_and_val if train_and_val_name[-5] != 'W']))\n",
    "train_and_val_names.sort()"
   ]
  },
  {
   "cell_type": "code",
   "execution_count": 50,
   "metadata": {},
   "outputs": [],
   "source": [
    "real_train = pd.DataFrame(columns=['image_file_name', 'z'])\n",
    "real_test = pd.DataFrame(columns=['image_file_name', 'z'])\n",
    "real_validation = pd.DataFrame(columns=['image_file_name', 'z'])"
   ]
  },
  {
   "cell_type": "code",
   "execution_count": 51,
   "metadata": {},
   "outputs": [],
   "source": [
    "for i in range(len(mixed_train_df)):\n",
    "    if mixed_train_df['image_file_name'][i] in train_and_val_names:\n",
    "        real_train = real_train.append(pd.DataFrame([[mixed_train_df['image_file_name'][i], mixed_train_df['z'][i]]], columns=['image_file_name', 'z']))\n",
    "real_train = real_train.reset_index(drop=True)\n",
    "\n",
    "for i in range(len(mixed_test_df)):\n",
    "    if mixed_test_df['image_file_name'][i] in test_names:\n",
    "        real_test = real_test.append(pd.DataFrame([[mixed_test_df['image_file_name'][i], mixed_test_df['z'][i]]], columns=['image_file_name', 'z']))\n",
    "real_test = real_test.reset_index(drop=True)\n",
    "\n",
    "for i in range(len(mixed_validation_df)):\n",
    "    if mixed_validation_df['image_file_name'][i] in train_and_val_names:\n",
    "        real_validation = real_validation.append(pd.DataFrame([[mixed_validation_df['image_file_name'][i], mixed_validation_df['z'][i]]], columns=['image_file_name', 'z']))\n",
    "real_validation = real_validation.reset_index(drop=True)"
   ]
  },
  {
   "cell_type": "code",
   "execution_count": 58,
   "metadata": {},
   "outputs": [],
   "source": [
    "real_train.to_csv('mixed_train.csv', index=False)"
   ]
  },
  {
   "cell_type": "code",
   "execution_count": 59,
   "metadata": {},
   "outputs": [],
   "source": [
    "real_validation.to_csv('mixed_validation.csv', index=False)"
   ]
  },
  {
   "cell_type": "code",
   "execution_count": 60,
   "metadata": {},
   "outputs": [],
   "source": [
    "real_test.to_csv('mixed_test.csv', index=False)"
   ]
  }
 ],
 "metadata": {
  "kernelspec": {
   "display_name": "ml",
   "language": "python",
   "name": "ml"
  },
  "language_info": {
   "codemirror_mode": {
    "name": "ipython",
    "version": 3
   },
   "file_extension": ".py",
   "mimetype": "text/x-python",
   "name": "python",
   "nbconvert_exporter": "python",
   "pygments_lexer": "ipython3",
   "version": "3.8.5"
  }
 },
 "nbformat": 4,
 "nbformat_minor": 4
}
